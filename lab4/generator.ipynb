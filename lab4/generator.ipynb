{
 "cells": [
  {
   "cell_type": "code",
   "execution_count": 6,
   "metadata": {
    "collapsed": true,
    "pycharm": {
     "name": "#%%\n"
    }
   },
   "outputs": [],
   "source": [
    "import keras\n",
    "from keras import layers\n",
    "\n",
    "import numpy as np\n",
    "import random\n",
    "import io, os, re"
   ]
  },
  {
   "cell_type": "code",
   "execution_count": 25,
   "outputs": [
    {
     "name": "stdout",
     "output_type": "stream",
     "text": [
      "Corpus length: 82990\n",
      "Total chars: 33\n",
      "Sequences len: 27650\n",
      "Sentence example:\n",
      "\t лісова пісня українка леся  пролог  той \n",
      "\t ова пісня українка леся  пролог  той що \n",
      "\t  пісня українка леся  пролог  той що гре\n",
      "{' ': 0, 'а': 1, 'б': 2, 'в': 3, 'г': 4, 'д': 5, 'е': 6, 'ж': 7, 'з': 8, 'и': 9, 'й': 10, 'к': 11, 'л': 12, 'м': 13, 'н': 14, 'о': 15, 'п': 16, 'р': 17, 'с': 18, 'т': 19, 'у': 20, 'ф': 21, 'х': 22, 'ц': 23, 'ч': 24, 'ш': 25, 'щ': 26, 'ь': 27, 'ю': 28, 'я': 29, 'є': 30, 'і': 31, 'ї': 32}\n",
      "['щ', 'г', 'б', ' ', 'е', ' ', 'у', 'л', ' ', 'т']\n"
     ]
    }
   ],
   "source": [
    "with io.open(\"./data/Lisova_pisnya_1371650989.txt\", encoding=\"utf-8\") as f:\n",
    "    text = f.read().lower()\n",
    "text = text.replace(\"\\n\", \" \")\n",
    "text = text.replace(\"  \", \" \")\n",
    "text = str_output = re.sub(r'[^а-яА-ЯіїєґІЇЄҐ\\s]', \"\", text)\n",
    "\n",
    "chars = sorted(list(set(text)))\n",
    "\n",
    "char_map = dict((c, i) for i, c in enumerate(chars))\n",
    "reverse_char_map = dict((i, c) for i, c in enumerate(chars))\n",
    "\n",
    "maxlen = 40\n",
    "step = 3\n",
    "sentences = []\n",
    "next = []\n",
    "for i in range(0, len(text) - maxlen, step):\n",
    "    sentences.append(text[i: i + maxlen])\n",
    "    next.append(text[i + maxlen])\n",
    "\n",
    "print(\"Corpus length:\", len(text))\n",
    "print(\"Total chars:\", len(chars))\n",
    "print(\"Sequences len:\", len(sentences))\n",
    "print(\"Sentence example:\")\n",
    "print(\"\\t\", sentences[0])\n",
    "print(\"\\t\", sentences[1])\n",
    "print(\"\\t\", sentences[2])\n",
    "print(char_map)\n",
    "print(next[:10])"
   ],
   "metadata": {
    "collapsed": false,
    "pycharm": {
     "name": "#%%\n"
    }
   }
  },
  {
   "cell_type": "code",
   "execution_count": 19,
   "outputs": [
    {
     "name": "stdout",
     "output_type": "stream",
     "text": [
      "[[False False False ... False False False]\n",
      " [False False False ... False  True False]\n",
      " [False False False ... False False False]\n",
      " ...\n",
      " [False False False ... False False False]\n",
      " [False False False ... False False False]\n",
      " [ True False False ... False False False]]\n",
      "[False False False False False False False False False False False False\n",
      " False False False False False False False False False False False False\n",
      " False False  True False False False False False False]\n"
     ]
    }
   ],
   "source": [
    "x = np.zeros((len(sentences), maxlen, len(chars)), dtype=\"bool\")\n",
    "y = np.zeros((len(sentences), len(chars)), dtype=\"bool\")\n",
    "\n",
    "for i, sentence in enumerate(sentences):\n",
    "    for t, char in enumerate(sentence):\n",
    "        x[i, t, char_map[char]] = 1\n",
    "    y[i, char_map[next[i]]] = 1\n",
    "\n",
    "# x - кодування слів\n",
    "print(x[0])\n",
    "print(y[0])"
   ],
   "metadata": {
    "collapsed": false,
    "pycharm": {
     "name": "#%%\n"
    }
   }
  },
  {
   "cell_type": "code",
   "execution_count": 26,
   "outputs": [],
   "source": [
    "model = keras.Sequential(\n",
    "    [\n",
    "        keras.Input(shape=(maxlen, len(chars))),\n",
    "        layers.LSTM(128),\n",
    "        layers.Dense(len(chars), activation=\"softmax\"),\n",
    "    ]\n",
    ")\n",
    "optimizer = keras.optimizers.RMSprop(learning_rate=0.05)\n",
    "model.compile(loss=\"categorical_crossentropy\", optimizer=optimizer)"
   ],
   "metadata": {
    "collapsed": false,
    "pycharm": {
     "name": "#%%\n"
    }
   }
  },
  {
   "cell_type": "code",
   "execution_count": 32,
   "outputs": [],
   "source": [
    "def sample(preds, temperature=1.0):\n",
    "    preds = np.asarray(preds).astype(\"float64\")\n",
    "    preds = np.log(preds) / temperature\n",
    "    exp_preds = np.exp(preds)\n",
    "    preds = exp_preds / np.sum(exp_preds)\n",
    "    probas = np.random.multinomial(1, preds, 1)\n",
    "    return np.argmax(probas)"
   ],
   "metadata": {
    "collapsed": false,
    "pycharm": {
     "name": "#%%\n"
    }
   }
  },
  {
   "cell_type": "code",
   "execution_count": 33,
   "outputs": [
    {
     "name": "stdout",
     "output_type": "stream",
     "text": [
      "217/217 [==============================] - 10s 44ms/step - loss: 1.5926\n",
      "...Diversity: 0.2\n",
      "...Generating with seed: \" брали сирого дерева р у с а л к а      \"\n",
      "...Generated:                                                                                                                                                                                                                                                                                                                                                                                                                  \n",
      "-\n",
      "...Diversity: 0.5\n",
      "...Generating with seed: \" брали сирого дерева р у с а л к а      \"\n"
     ]
    },
    {
     "name": "stderr",
     "output_type": "stream",
     "text": [
      "/var/folders/pf/0l4vr5sx3458dlwp6hhfl46r0000gn/T/ipykernel_44738/2351311327.py:3: RuntimeWarning: divide by zero encountered in log\n",
      "  preds = np.log(preds) / temperature\n"
     ]
    },
    {
     "name": "stdout",
     "output_type": "stream",
     "text": [
      "...Generated:                                                                                            не тодитько довкуває запускається в лісі вибатуться в ницволо поміває в лісі с о д я н и к у там зводати спускається як же половати так так ти з вістить л у к а ш як на так як так                    л у к а ш яканось ми                                                                                           \n",
      "-\n",
      "...Diversity: 1.0\n",
      "...Generating with seed: \" брали сирого дерева р у с а л к а      \"\n",
      "...Generated:  ні шебеться в ходути я більну був ти дориниць і бе тепець оз вокилина осінкий зашрускатух ход пратись то водой ти хто сяє вісів то так воне пролитно в хатчу вже ж бо л у к а ш      ти град килини п е р е м а в кую лусаахв л у к а ш які глябім налепмаває і вибиться оглядається се жнала застить люба все навасів була та було       тихоці втать висмавою на то тра      які з осжши сліниться невід галяв\n",
      "-\n",
      "...Diversity: 1.2\n",
      "...Generating with seed: \" брали сирого дерева р у с а л к а      \"\n",
      "...Generated:  плачиш і накилля чулах його вутум спається з губе тепер русалка помавом вискає л у к а ш       звовшешамує на сїмімила тадходеце про мені заралас на нума де руши вонь одкати х         і риусу  л у к а ш к о д в сухай бліде я      хто в лісуми свимічиться а там сає мене мене ось вінкуй не позилохати він вжестилась я пробі спкитась в лісів бтимись оставиє грає хоч теби кливубнічу ще м я воно ясося н\n",
      "-\n"
     ]
    }
   ],
   "source": [
    "epochs = 10\n",
    "txt_gen_len = 400\n",
    "batch_size = 128\n",
    "\n",
    "model.fit(x, y, batch_size=batch_size, epochs=epochs)\n",
    "\n",
    "start_index = random.randint(0, len(text) - maxlen - 1)\n",
    "for diversity in [0.2, 0.5, 1.0, 1.2]:\n",
    "    print(\"...Diversity:\", diversity)\n",
    "\n",
    "    generated = \"\"\n",
    "    sentence = text[start_index: start_index + maxlen]\n",
    "    print('...Generating with seed: \"' + sentence + '\"')\n",
    "\n",
    "    for i in range(txt_gen_len):\n",
    "        x_pred = np.zeros((1, maxlen, len(chars)))\n",
    "        for t, char in enumerate(sentence):\n",
    "            x_pred[0, t, char_map[char]] = 1.0\n",
    "        preds = model.predict(x_pred, verbose=0)[0]\n",
    "        next_index = sample(preds, diversity)\n",
    "        next_char = reverse_char_map[next_index]\n",
    "        sentence = sentence[1:] + next_char\n",
    "        generated += next_char\n",
    "\n",
    "    print(\"...Generated: \", generated)\n",
    "    print(\"-\")"
   ],
   "metadata": {
    "collapsed": false,
    "pycharm": {
     "name": "#%%\n"
    }
   }
  },
  {
   "cell_type": "code",
   "execution_count": null,
   "outputs": [],
   "source": [],
   "metadata": {
    "collapsed": false,
    "pycharm": {
     "name": "#%%\n"
    }
   }
  }
 ],
 "metadata": {
  "kernelspec": {
   "display_name": "Python 3",
   "language": "python",
   "name": "python3"
  },
  "language_info": {
   "codemirror_mode": {
    "name": "ipython",
    "version": 2
   },
   "file_extension": ".py",
   "mimetype": "text/x-python",
   "name": "python",
   "nbconvert_exporter": "python",
   "pygments_lexer": "ipython2",
   "version": "2.7.6"
  }
 },
 "nbformat": 4,
 "nbformat_minor": 0
}